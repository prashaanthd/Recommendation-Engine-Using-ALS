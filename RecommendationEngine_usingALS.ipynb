{
 "cells": [
  {
   "cell_type": "markdown",
   "metadata": {},
   "source": [
    "# Creating Spark Session"
   ]
  },
  {
   "cell_type": "code",
   "execution_count": 1,
   "metadata": {},
   "outputs": [],
   "source": [
    "#Creating Spark Session\n",
    "from pyspark.sql import SparkSession\n",
    "sc= SparkSession.builder.appName('book_crossing').getOrCreate()"
   ]
  },
  {
   "cell_type": "code",
   "execution_count": 2,
   "metadata": {},
   "outputs": [],
   "source": [
    "#importing libraries\n",
    "from pyspark.sql.types import *\n",
    "import pyspark.sql.functions as F\n",
    "from pyspark.sql.functions import udf, col\n",
    "import pandas as pd"
   ]
  },
  {
   "cell_type": "code",
   "execution_count": 3,
   "metadata": {},
   "outputs": [],
   "source": [
    "#Loading the CSV files\n",
    "books = sc.read.csv(\"Books.csv\",header = True,sep=';', inferSchema = True)\n",
    "ratings = sc.read.csv(\"Ratings.csv\",header = True,sep=';', inferSchema = True)\n",
    "#users = sc.read.csv(\"Users.csv\",header = True,sep=';', inferSchema = True)\n"
   ]
  },
  {
   "cell_type": "markdown",
   "metadata": {},
   "source": [
    "# 1.1: EDA"
   ]
  },
  {
   "cell_type": "markdown",
   "metadata": {},
   "source": [
    "### Books.csv"
   ]
  },
  {
   "cell_type": "code",
   "execution_count": 4,
   "metadata": {},
   "outputs": [
    {
     "name": "stdout",
     "output_type": "stream",
     "text": [
      "root\n",
      " |-- ISBN: string (nullable = true)\n",
      " |-- Title: string (nullable = true)\n",
      " |-- Author: string (nullable = true)\n",
      " |-- Year: string (nullable = true)\n",
      " |-- Publisher: string (nullable = true)\n",
      "\n"
     ]
    }
   ],
   "source": [
    "#printing the schema\n",
    "books.printSchema()"
   ]
  },
  {
   "cell_type": "code",
   "execution_count": 5,
   "metadata": {},
   "outputs": [
    {
     "name": "stdout",
     "output_type": "stream",
     "text": [
      "+----------+--------------------+--------------------+----+--------------------+\n",
      "|      ISBN|               Title|              Author|Year|           Publisher|\n",
      "+----------+--------------------+--------------------+----+--------------------+\n",
      "|0195153448| Classical Mythology|  Mark P. O. Morford|2002|Oxford University...|\n",
      "|0002005018|        Clara Callan|Richard Bruce Wright|2001|HarperFlamingo Ca...|\n",
      "|0060973129|Decision in Normandy|        Carlo D'Este|1991|     HarperPerennial|\n",
      "|0374157065|Flu: The Story of...|    Gina Bari Kolata|1999|Farrar Straus Giroux|\n",
      "|0393045218|The Mummies of Ur...|     E. J. W. Barber|1999|W. W. Norton & Co...|\n",
      "+----------+--------------------+--------------------+----+--------------------+\n",
      "only showing top 5 rows\n",
      "\n"
     ]
    }
   ],
   "source": [
    "#Dataframe\n",
    "books.show(5)"
   ]
  },
  {
   "cell_type": "markdown",
   "metadata": {},
   "source": [
    "#### No.of rows"
   ]
  },
  {
   "cell_type": "code",
   "execution_count": 19,
   "metadata": {},
   "outputs": [
    {
     "data": {
      "text/plain": [
       "271379"
      ]
     },
     "execution_count": 19,
     "metadata": {},
     "output_type": "execute_result"
    }
   ],
   "source": [
    "#No.of rows\n",
    "books.count()"
   ]
  },
  {
   "cell_type": "markdown",
   "metadata": {},
   "source": [
    "#### No.of  columns"
   ]
  },
  {
   "cell_type": "code",
   "execution_count": 6,
   "metadata": {},
   "outputs": [
    {
     "name": "stdout",
     "output_type": "stream",
     "text": [
      "No.of columns: 5\n"
     ]
    }
   ],
   "source": [
    "print(\"No.of columns:\",len(books.columns))"
   ]
  },
  {
   "cell_type": "markdown",
   "metadata": {},
   "source": [
    "#### Checking Null Values"
   ]
  },
  {
   "cell_type": "code",
   "execution_count": 7,
   "metadata": {},
   "outputs": [
    {
     "data": {
      "text/plain": [
       "0"
      ]
     },
     "execution_count": 7,
     "metadata": {},
     "output_type": "execute_result"
    }
   ],
   "source": [
    "books.filter(F.isnull(\"Title\")).count()"
   ]
  },
  {
   "cell_type": "code",
   "execution_count": 8,
   "metadata": {},
   "outputs": [
    {
     "data": {
      "text/plain": [
       "4"
      ]
     },
     "execution_count": 8,
     "metadata": {},
     "output_type": "execute_result"
    }
   ],
   "source": [
    "books.filter(F.isnull(\"Author\")).count()"
   ]
  },
  {
   "cell_type": "code",
   "execution_count": 9,
   "metadata": {},
   "outputs": [
    {
     "data": {
      "text/plain": [
       "6"
      ]
     },
     "execution_count": 9,
     "metadata": {},
     "output_type": "execute_result"
    }
   ],
   "source": [
    "books.filter(F.isnull(\"Year\")).count()"
   ]
  },
  {
   "cell_type": "code",
   "execution_count": 10,
   "metadata": {},
   "outputs": [
    {
     "data": {
      "text/plain": [
       "8"
      ]
     },
     "execution_count": 10,
     "metadata": {},
     "output_type": "execute_result"
    }
   ],
   "source": [
    "books.filter(F.isnull(\"Publisher\")).count()"
   ]
  },
  {
   "cell_type": "markdown",
   "metadata": {},
   "source": [
    "- There are only few null values, so we will drop them which will doesn't affect the analysis."
   ]
  },
  {
   "cell_type": "code",
   "execution_count": 11,
   "metadata": {},
   "outputs": [],
   "source": [
    "#Dropping null values\n",
    "books= books.na.drop()"
   ]
  },
  {
   "cell_type": "code",
   "execution_count": 12,
   "metadata": {},
   "outputs": [
    {
     "data": {
      "text/plain": [
       "271370"
      ]
     },
     "execution_count": 12,
     "metadata": {},
     "output_type": "execute_result"
    }
   ],
   "source": [
    "#No.of rows in books dataframe after dropping nan values\n",
    "books.count()"
   ]
  },
  {
   "cell_type": "markdown",
   "metadata": {},
   "source": [
    "####  No.of Authors"
   ]
  },
  {
   "cell_type": "code",
   "execution_count": 26,
   "metadata": {},
   "outputs": [
    {
     "data": {
      "text/plain": [
       "102031"
      ]
     },
     "execution_count": 26,
     "metadata": {},
     "output_type": "execute_result"
    }
   ],
   "source": [
    "books.select(\"Author\").distinct().count()"
   ]
  },
  {
   "cell_type": "markdown",
   "metadata": {},
   "source": [
    "#### Year Column"
   ]
  },
  {
   "cell_type": "code",
   "execution_count": 27,
   "metadata": {},
   "outputs": [
    {
     "name": "stdout",
     "output_type": "stream",
     "text": [
      "+-------------------+\n",
      "|               Year|\n",
      "+-------------------+\n",
      "|               1953|\n",
      "|               1957|\n",
      "|               1897|\n",
      "|               1987|\n",
      "|               1956|\n",
      "|               1936|\n",
      "|               2020|\n",
      "|               2012|\n",
      "|               1958|\n",
      "|               1910|\n",
      "|               1943|\n",
      "|               1972|\n",
      "|John Alderson Foote|\n",
      "|               1931|\n",
      "|               2026|\n",
      "|               1988|\n",
      "|               1926|\n",
      "|               1938|\n",
      "|               1911|\n",
      "|               1932|\n",
      "+-------------------+\n",
      "only showing top 20 rows\n",
      "\n"
     ]
    }
   ],
   "source": [
    "books.select(\"Year\").distinct().show()"
   ]
  },
  {
   "cell_type": "markdown",
   "metadata": {},
   "source": [
    "- There are values other than Year of book published, and in the publisher column there are numbers, so will find them and drop from the dataframe"
   ]
  },
  {
   "cell_type": "code",
   "execution_count": 13,
   "metadata": {},
   "outputs": [],
   "source": [
    "def is_digit(val):\n",
    "    if val:\n",
    "        return val.isdigit()\n",
    "    else:\n",
    "        return False\n",
    "\n",
    "is_digit_udf = udf(is_digit, BooleanType())\n",
    "\n",
    "books = books.withColumn('y_Value', F.when(is_digit_udf(F.col('Year')), F.lit(True)).otherwise(F.lit(False)))\n",
    "books = books.withColumn('P_Value', F.when(is_digit_udf(F.col('Publisher')), F.lit(True)).otherwise(F.lit(False)))"
   ]
  },
  {
   "cell_type": "code",
   "execution_count": 15,
   "metadata": {},
   "outputs": [
    {
     "name": "stdout",
     "output_type": "stream",
     "text": [
      "+----------+--------------------+--------------------+----+--------------------+-------+-------+\n",
      "|      ISBN|               Title|              Author|Year|           Publisher|y_Value|P_Value|\n",
      "+----------+--------------------+--------------------+----+--------------------+-------+-------+\n",
      "|0195153448| Classical Mythology|  Mark P. O. Morford|2002|Oxford University...|   true|  false|\n",
      "|0002005018|        Clara Callan|Richard Bruce Wright|2001|HarperFlamingo Ca...|   true|  false|\n",
      "|0060973129|Decision in Normandy|        Carlo D'Este|1991|     HarperPerennial|   true|  false|\n",
      "|0374157065|Flu: The Story of...|    Gina Bari Kolata|1999|Farrar Straus Giroux|   true|  false|\n",
      "|0393045218|The Mummies of Ur...|     E. J. W. Barber|1999|W. W. Norton & Co...|   true|  false|\n",
      "+----------+--------------------+--------------------+----+--------------------+-------+-------+\n",
      "only showing top 5 rows\n",
      "\n"
     ]
    }
   ],
   "source": [
    "books.show(5)"
   ]
  },
  {
   "cell_type": "code",
   "execution_count": 16,
   "metadata": {},
   "outputs": [
    {
     "name": "stdout",
     "output_type": "stream",
     "text": [
      "+----------+--------------------+--------------------+--------------------+---------------+-------+-------+\n",
      "|      ISBN|               Title|              Author|                Year|      Publisher|y_Value|P_Value|\n",
      "+----------+--------------------+--------------------+--------------------+---------------+-------+-------+\n",
      "|0330482750|\"Three Novels: \"\"...| \\\"\"Afternoon Raa...| \\\"\"Freedom Song\\\"\"\"| Amit Chaudhuri|  false|  false|\n",
      "|8423920143|\"GuÃ­a del lector...|       14 : Ensayo)\"|Salvador de Madar...|           1976|  false|   true|\n",
      "|0553570722|\"\"\"R\\\"\" for Reven...| Created by Franc...|     Francine Pascal|           1997|  false|   true|\n",
      "|085409878X|    \"\"\"Pie-powder\\\"\"| being dust from ...| John Alderson Foote|           1973|  false|   true|\n",
      "|0006479839|\"The LaVyrle Spen...| \\\"\"Forsaking All...| & \\\"\"A Promise t...|LaVyrle Spencer|  false|  false|\n",
      "|0807735132|\"\"\"The Having of ...|           Learning\"|   Eleanor Duckworth|           1996|  false|   true|\n",
      "|006263545X|\"Ludwig van Beeth...| The \\\"\"Egmont\\\"\"...|           Alan Rich|           1995|  false|   true|\n",
      "+----------+--------------------+--------------------+--------------------+---------------+-------+-------+\n",
      "\n"
     ]
    }
   ],
   "source": [
    "#Showing the dataframe where Year is not numeric.\n",
    "books.filter(books.y_Value == 'false').show()"
   ]
  },
  {
   "cell_type": "code",
   "execution_count": 17,
   "metadata": {},
   "outputs": [
    {
     "name": "stdout",
     "output_type": "stream",
     "text": [
      "+----------+--------------------+--------------------+--------------------+---------+-------+-------+\n",
      "|      ISBN|               Title|              Author|                Year|Publisher|y_Value|P_Value|\n",
      "+----------+--------------------+--------------------+--------------------+---------+-------+-------+\n",
      "|0967389305|Restoring Intimac...|         Drew Pinsky|                1999|        3|   true|   true|\n",
      "|8423920143|\"GuÃ­a del lector...|       14 : Ensayo)\"|Salvador de Madar...|     1976|  false|   true|\n",
      "|0553570722|\"\"\"R\\\"\" for Reven...| Created by Franc...|     Francine Pascal|     1997|  false|   true|\n",
      "|2264034173| Un troublant retour|  Patricia Wentworth|                2002|    37547|   true|   true|\n",
      "|085409878X|    \"\"\"Pie-powder\\\"\"| being dust from ...| John Alderson Foote|     1973|  false|   true|\n",
      "|0807735132|\"\"\"The Having of ...|           Learning\"|   Eleanor Duckworth|     1996|  false|   true|\n",
      "|2264033932|         David Bowie|JÃ?Â©rÃ?Â´me Soligny|                2002|    37547|   true|   true|\n",
      "|006263545X|\"Ludwig van Beeth...| The \\\"\"Egmont\\\"\"...|           Alan Rich|     1995|  false|   true|\n",
      "+----------+--------------------+--------------------+--------------------+---------+-------+-------+\n",
      "\n"
     ]
    }
   ],
   "source": [
    "# books dataframe where Publisher values of different datatype\n",
    "books.filter(books.P_Value == 'true').show()"
   ]
  },
  {
   "cell_type": "code",
   "execution_count": 18,
   "metadata": {},
   "outputs": [],
   "source": [
    "books_df = books.where(books.y_Value == 'true')\n",
    "books_df = books_df.where(books.P_Value == 'false')"
   ]
  },
  {
   "cell_type": "code",
   "execution_count": 19,
   "metadata": {},
   "outputs": [
    {
     "data": {
      "text/plain": [
       "271360"
      ]
     },
     "execution_count": 19,
     "metadata": {},
     "output_type": "execute_result"
    }
   ],
   "source": [
    "#No.of rows after filtering the books dataframe\n",
    "books_df.count()"
   ]
  },
  {
   "cell_type": "code",
   "execution_count": 20,
   "metadata": {},
   "outputs": [
    {
     "name": "stdout",
     "output_type": "stream",
     "text": [
      "+----+-----+------+----+---------+-------+-------+\n",
      "|ISBN|Title|Author|Year|Publisher|y_Value|P_Value|\n",
      "+----+-----+------+----+---------+-------+-------+\n",
      "+----+-----+------+----+---------+-------+-------+\n",
      "\n"
     ]
    }
   ],
   "source": [
    "#checking if there are still any values other than year values in the Year column\n",
    "books_df.filter(books_df.y_Value == 'false').show()"
   ]
  },
  {
   "cell_type": "code",
   "execution_count": 21,
   "metadata": {},
   "outputs": [
    {
     "name": "stdout",
     "output_type": "stream",
     "text": [
      "+----+-----+------+----+---------+-------+-------+\n",
      "|ISBN|Title|Author|Year|Publisher|y_Value|P_Value|\n",
      "+----+-----+------+----+---------+-------+-------+\n",
      "+----+-----+------+----+---------+-------+-------+\n",
      "\n"
     ]
    }
   ],
   "source": [
    "#Checking iof there are any values other than Publisher in the Publisher Column.\n",
    "books_df.filter(books_df.P_Value == 'true').show()"
   ]
  },
  {
   "cell_type": "code",
   "execution_count": 22,
   "metadata": {},
   "outputs": [],
   "source": [
    "#We Dont need y_Value and P_Value columns, So we drop these columns from the books DataFrame\n",
    "col_to_drop=['y_Value','P_Value']\n",
    "books_df= books_df.drop(*col_to_drop)"
   ]
  },
  {
   "cell_type": "code",
   "execution_count": 26,
   "metadata": {},
   "outputs": [],
   "source": [
    "#Coverting Year to Integer Type\n",
    "books_df = books_df.withColumn(\"Year\", books_df[\"Year\"].cast(IntegerType()))"
   ]
  },
  {
   "cell_type": "code",
   "execution_count": 27,
   "metadata": {},
   "outputs": [
    {
     "name": "stdout",
     "output_type": "stream",
     "text": [
      "+----------+-------------------+--------------------+----+--------------------+\n",
      "|      ISBN|              Title|              Author|Year|           Publisher|\n",
      "+----------+-------------------+--------------------+----+--------------------+\n",
      "|0195153448|Classical Mythology|  Mark P. O. Morford|2002|Oxford University...|\n",
      "|0002005018|       Clara Callan|Richard Bruce Wright|2001|HarperFlamingo Ca...|\n",
      "+----------+-------------------+--------------------+----+--------------------+\n",
      "only showing top 2 rows\n",
      "\n"
     ]
    }
   ],
   "source": [
    "#Let us see the books DataFrame after dropping the columns\n",
    "books_df.show(2)"
   ]
  },
  {
   "cell_type": "code",
   "execution_count": 28,
   "metadata": {},
   "outputs": [
    {
     "name": "stdout",
     "output_type": "stream",
     "text": [
      "root\n",
      " |-- ISBN: string (nullable = true)\n",
      " |-- Title: string (nullable = true)\n",
      " |-- Author: string (nullable = true)\n",
      " |-- Year: integer (nullable = true)\n",
      " |-- Publisher: string (nullable = true)\n",
      "\n"
     ]
    }
   ],
   "source": [
    "books_df.printSchema()"
   ]
  },
  {
   "cell_type": "markdown",
   "metadata": {},
   "source": [
    "### Ratings.csv"
   ]
  },
  {
   "cell_type": "code",
   "execution_count": 29,
   "metadata": {},
   "outputs": [
    {
     "name": "stdout",
     "output_type": "stream",
     "text": [
      "root\n",
      " |-- User-ID: integer (nullable = true)\n",
      " |-- ISBN: string (nullable = true)\n",
      " |-- Rating: integer (nullable = true)\n",
      "\n"
     ]
    }
   ],
   "source": [
    "ratings.printSchema()"
   ]
  },
  {
   "cell_type": "code",
   "execution_count": 30,
   "metadata": {},
   "outputs": [
    {
     "name": "stdout",
     "output_type": "stream",
     "text": [
      "+-------+----------+------+\n",
      "|User-ID|      ISBN|Rating|\n",
      "+-------+----------+------+\n",
      "| 276725|034545104X|     0|\n",
      "| 276726|0155061224|     5|\n",
      "| 276727|0446520802|     0|\n",
      "| 276729|052165615X|     3|\n",
      "| 276729|0521795028|     6|\n",
      "+-------+----------+------+\n",
      "only showing top 5 rows\n",
      "\n"
     ]
    }
   ],
   "source": [
    "ratings.show(5)"
   ]
  },
  {
   "cell_type": "code",
   "execution_count": 31,
   "metadata": {},
   "outputs": [],
   "source": [
    "ratings = ratings.withColumnRenamed('User-ID', 'User_ID')"
   ]
  },
  {
   "cell_type": "markdown",
   "metadata": {},
   "source": [
    "##### No.of Rows"
   ]
  },
  {
   "cell_type": "code",
   "execution_count": 32,
   "metadata": {},
   "outputs": [
    {
     "data": {
      "text/plain": [
       "1149780"
      ]
     },
     "execution_count": 32,
     "metadata": {},
     "output_type": "execute_result"
    }
   ],
   "source": [
    "#no.of rows in ratings\n",
    "ratings.count()"
   ]
  },
  {
   "cell_type": "markdown",
   "metadata": {},
   "source": [
    "##### No.of columns"
   ]
  },
  {
   "cell_type": "code",
   "execution_count": 33,
   "metadata": {},
   "outputs": [
    {
     "data": {
      "text/plain": [
       "3"
      ]
     },
     "execution_count": 33,
     "metadata": {},
     "output_type": "execute_result"
    }
   ],
   "source": [
    "#no.of columns in ratings\n",
    "len(ratings.columns)"
   ]
  },
  {
   "cell_type": "markdown",
   "metadata": {},
   "source": [
    "##### No. of Users who rated the books"
   ]
  },
  {
   "cell_type": "code",
   "execution_count": 37,
   "metadata": {},
   "outputs": [
    {
     "name": "stdout",
     "output_type": "stream",
     "text": [
      "+-----------+\n",
      "|No.of Users|\n",
      "+-----------+\n",
      "|     105283|\n",
      "+-----------+\n",
      "\n"
     ]
    }
   ],
   "source": [
    "#Count of Users rated the books\n",
    "ratings.select(F.countDistinct(\"User_ID\").alias(\"No.of Users\")).show()"
   ]
  },
  {
   "cell_type": "markdown",
   "metadata": {},
   "source": [
    "##### Value Counts per each Rating"
   ]
  },
  {
   "cell_type": "code",
   "execution_count": 38,
   "metadata": {},
   "outputs": [
    {
     "data": {
      "image/png": "[encoded data removed]",
      "text/plain": [
       "<Figure size 432x288 with 1 Axes>"
      ]
     },
     "metadata": {
      "needs_background": "light"
     },
     "output_type": "display_data"
    }
   ],
   "source": [
    "#Visualizing the ratings column.\n",
    "import matplotlib.pyplot as plt\n",
    "import seaborn as sns\n",
    "sns.countplot(ratings.toPandas().Rating)\n",
    "plt.show()"
   ]
  },
  {
   "cell_type": "markdown",
   "metadata": {},
   "source": [
    "- We can clearly see that dataset is Highly Imbalnced.\n",
    "- Books are rated either 0 or mostly above 6."
   ]
  },
  {
   "cell_type": "markdown",
   "metadata": {},
   "source": [
    "### Merging books and ratings dataframe for the task\n"
   ]
  },
  {
   "cell_type": "code",
   "execution_count": 39,
   "metadata": {},
   "outputs": [],
   "source": [
    "books_ratings_df = ratings.join(books_df, on=['ISBN'], how='left_outer')"
   ]
  },
  {
   "cell_type": "code",
   "execution_count": 40,
   "metadata": {},
   "outputs": [],
   "source": [
    "#dropping nan if any\n",
    "books_ratings_df=books_ratings_df.na.drop()"
   ]
  },
  {
   "cell_type": "code",
   "execution_count": 41,
   "metadata": {},
   "outputs": [
    {
     "data": {
      "text/plain": [
       "1031163"
      ]
     },
     "execution_count": 41,
     "metadata": {},
     "output_type": "execute_result"
    }
   ],
   "source": [
    "#no.of rows in the final DataFrame\n",
    "books_ratings_df.count()"
   ]
  },
  {
   "cell_type": "code",
   "execution_count": 42,
   "metadata": {},
   "outputs": [
    {
     "data": {
      "text/plain": [
       "7"
      ]
     },
     "execution_count": 42,
     "metadata": {},
     "output_type": "execute_result"
    }
   ],
   "source": [
    "#no.of columns in the final DataFrame\n",
    "len(books_ratings_df.columns)"
   ]
  },
  {
   "cell_type": "code",
   "execution_count": 43,
   "metadata": {},
   "outputs": [
    {
     "name": "stdout",
     "output_type": "stream",
     "text": [
      "+----------+-------+------+--------------------+-------------+----+--------------------+\n",
      "|      ISBN|User_ID|Rating|               Title|       Author|Year|           Publisher|\n",
      "+----------+-------+------+--------------------+-------------+----+--------------------+\n",
      "|0002234947|  39608|     0|Miss Hobbema Pageant|W.P. Kinsella|1990|Harpercollins Juv...|\n",
      "|0002234947| 219445|     0|Miss Hobbema Pageant|W.P. Kinsella|1990|Harpercollins Juv...|\n",
      "|0002234947| 227275|     0|Miss Hobbema Pageant|W.P. Kinsella|1990|Harpercollins Juv...|\n",
      "|0002243687| 271542|     0|Brother Frank's g...|W. P Kinsella|1994|       HarperCollins|\n",
      "|0002257084| 261105|     0|          Dolce Vita| Iseult Teran|1999|HarperCollins Pub...|\n",
      "+----------+-------+------+--------------------+-------------+----+--------------------+\n",
      "only showing top 5 rows\n",
      "\n"
     ]
    }
   ],
   "source": [
    "books_ratings_df.show(5)"
   ]
  },
  {
   "cell_type": "code",
   "execution_count": 44,
   "metadata": {},
   "outputs": [
    {
     "data": {
      "text/plain": [
       "<matplotlib.axes._subplots.AxesSubplot at 0x7fca1f252310>"
      ]
     },
     "execution_count": 44,
     "metadata": {},
     "output_type": "execute_result"
    },
    {
     "data": {
      "image/png": "[encoded data removed]",
      "text/plain": [
       "<Figure size 432x288 with 1 Axes>"
      ]
     },
     "metadata": {
      "needs_background": "light"
     },
     "output_type": "display_data"
    }
   ],
   "source": [
    "#Visualizing Top 10 Users wh0 rated most of the books in the datset\n",
    "books_ratings_df.toPandas()['User_ID'].value_counts()[:10].plot(kind='barh')"
   ]
  },
  {
   "cell_type": "code",
   "execution_count": 45,
   "metadata": {},
   "outputs": [],
   "source": [
    "#Let's see Top 10 popular books based on no.of ratings provided.\n",
    "r=books_ratings_df.toPandas()['Title'].value_counts()[0:10]"
   ]
  },
  {
   "cell_type": "code",
   "execution_count": 46,
   "metadata": {},
   "outputs": [
    {
     "data": {
      "image/png": "[encoded data removed]",
      "text/plain": [
       "<Figure size 432x288 with 1 Axes>"
      ]
     },
     "metadata": {
      "needs_background": "light"
     },
     "output_type": "display_data"
    }
   ],
   "source": [
    "r=r.to_frame().reset_index()\n",
    "r.columns=['Title','Count']\n",
    "plt.barh(r.Title,r.Count)\n",
    "plt.title(\"Top 10 Popular books\")\n",
    "plt.show()"
   ]
  },
  {
   "cell_type": "markdown",
   "metadata": {},
   "source": [
    "- Wild Animus is the most Popular book."
   ]
  },
  {
   "cell_type": "markdown",
   "metadata": {},
   "source": [
    "### Converting Sting Columns to Numeric"
   ]
  },
  {
   "cell_type": "code",
   "execution_count": 47,
   "metadata": {},
   "outputs": [],
   "source": [
    "from pyspark.ml.feature import StringIndexer, VectorAssembler"
   ]
  },
  {
   "cell_type": "code",
   "execution_count": 48,
   "metadata": {},
   "outputs": [
    {
     "name": "stdout",
     "output_type": "stream",
     "text": [
      "root\n",
      " |-- ISBN: string (nullable = true)\n",
      " |-- User_ID: integer (nullable = true)\n",
      " |-- Rating: integer (nullable = true)\n",
      " |-- Title: string (nullable = true)\n",
      " |-- Author: string (nullable = true)\n",
      " |-- Year: integer (nullable = true)\n",
      " |-- Publisher: string (nullable = true)\n",
      "\n"
     ]
    }
   ],
   "source": [
    "books_ratings_df.printSchema()"
   ]
  },
  {
   "cell_type": "code",
   "execution_count": 49,
   "metadata": {},
   "outputs": [],
   "source": [
    "indexer = StringIndexer().setInputCol(\"ISBN\").setOutputCol(\"ISBN_Index\").fit(books_ratings_df)\n",
    "books_ratings_df = indexer.transform(books_ratings_df)"
   ]
  },
  {
   "cell_type": "code",
   "execution_count": 50,
   "metadata": {},
   "outputs": [],
   "source": [
    "indexer = StringIndexer().setInputCol(\"Title\").setOutputCol(\"Title_Index\").fit(books_ratings_df)\n",
    "books_ratings_df = indexer.transform(books_ratings_df)"
   ]
  },
  {
   "cell_type": "code",
   "execution_count": 51,
   "metadata": {},
   "outputs": [],
   "source": [
    "indexer = StringIndexer().setInputCol(\"Author\").setOutputCol(\"Author_Index\").fit(books_ratings_df)\n",
    "books_ratings_df = indexer.transform(books_ratings_df)"
   ]
  },
  {
   "cell_type": "code",
   "execution_count": 52,
   "metadata": {},
   "outputs": [],
   "source": [
    "indexer = StringIndexer().setInputCol(\"Publisher\").setOutputCol(\"Publisher_Index\").fit(books_ratings_df)\n",
    "books_ratings_df = indexer.transform(books_ratings_df)"
   ]
  },
  {
   "cell_type": "code",
   "execution_count": 53,
   "metadata": {},
   "outputs": [
    {
     "name": "stdout",
     "output_type": "stream",
     "text": [
      "root\n",
      " |-- ISBN: string (nullable = true)\n",
      " |-- User_ID: integer (nullable = true)\n",
      " |-- Rating: integer (nullable = true)\n",
      " |-- Title: string (nullable = true)\n",
      " |-- Author: string (nullable = true)\n",
      " |-- Year: integer (nullable = true)\n",
      " |-- Publisher: string (nullable = true)\n",
      " |-- ISBN_Index: double (nullable = false)\n",
      " |-- Title_Index: double (nullable = false)\n",
      " |-- Author_Index: double (nullable = false)\n",
      " |-- Publisher_Index: double (nullable = false)\n",
      "\n"
     ]
    }
   ],
   "source": [
    "books_ratings_df.printSchema()"
   ]
  },
  {
   "cell_type": "markdown",
   "metadata": {},
   "source": [
    "##### Let's Assemble all together to get features."
   ]
  },
  {
   "cell_type": "code",
   "execution_count": 55,
   "metadata": {},
   "outputs": [
    {
     "name": "stdout",
     "output_type": "stream",
     "text": [
      "root\n",
      " |-- User_ID: integer (nullable = true)\n",
      " |-- ISBN: string (nullable = true)\n",
      " |-- Title: string (nullable = true)\n",
      " |-- Author: string (nullable = true)\n",
      " |-- Year: integer (nullable = true)\n",
      " |-- Publisher: string (nullable = true)\n",
      " |-- features: vector (nullable = true)\n",
      " |-- Rating: integer (nullable = true)\n",
      "\n"
     ]
    }
   ],
   "source": [
    "assembler = VectorAssembler(inputCols=[\"ISBN_Index\",\"User_ID\",\"Title_Index\",\"Author_Index\",\"Publisher_Index\"],outputCol=\"features\")\n",
    "books_ratings_df= assembler.transform(books_ratings_df)\n",
    "books_ratings_df= books_ratings_df.select(\"User_ID\",\"ISBN\",\"Title\",\"Author\",\"Year\",\"Publisher\",\"features\",\"Rating\")\n",
    "books_ratings_df.printSchema()"
   ]
  },
  {
   "cell_type": "code",
   "execution_count": 56,
   "metadata": {},
   "outputs": [
    {
     "name": "stdout",
     "output_type": "stream",
     "text": [
      "+-------+----------+--------------------+-------------+----+--------------------+--------------------+------+\n",
      "|User_ID|      ISBN|               Title|       Author|Year|           Publisher|            features|Rating|\n",
      "+-------+----------+--------------------+-------------+----+--------------------+--------------------+------+\n",
      "|  39608|0002234947|Miss Hobbema Pageant|W.P. Kinsella|1990|Harpercollins Juv...|[63518.0,39608.0,...|     0|\n",
      "| 219445|0002234947|Miss Hobbema Pageant|W.P. Kinsella|1990|Harpercollins Juv...|[63518.0,219445.0...|     0|\n",
      "| 227275|0002234947|Miss Hobbema Pageant|W.P. Kinsella|1990|Harpercollins Juv...|[63518.0,227275.0...|     0|\n",
      "| 271542|0002243687|Brother Frank's g...|W. P Kinsella|1994|       HarperCollins|[237471.0,271542....|     0|\n",
      "| 261105|0002257084|          Dolce Vita| Iseult Teran|1999|HarperCollins Pub...|[161284.0,261105....|     0|\n",
      "+-------+----------+--------------------+-------------+----+--------------------+--------------------+------+\n",
      "only showing top 5 rows\n",
      "\n"
     ]
    }
   ],
   "source": [
    "books_ratings_df.show(5)"
   ]
  },
  {
   "cell_type": "code",
   "execution_count": 57,
   "metadata": {},
   "outputs": [
    {
     "name": "stdout",
     "output_type": "stream",
     "text": [
      "+------+------+\n",
      "|Rating| count|\n",
      "+------+------+\n",
      "|     1|  1481|\n",
      "|     6| 31690|\n",
      "|     3|  5118|\n",
      "|     5| 45354|\n",
      "|     9| 60775|\n",
      "|     4|  7617|\n",
      "|     8| 91804|\n",
      "|     7| 66404|\n",
      "|    10| 71226|\n",
      "|     2|  2375|\n",
      "|     0|647319|\n",
      "+------+------+\n",
      "\n"
     ]
    }
   ],
   "source": [
    "#Value counts per Each Rating\n",
    "books_ratings_df.groupby(\"Rating\").count().show()"
   ]
  },
  {
   "cell_type": "markdown",
   "metadata": {},
   "source": [
    "- As we can see the dataset is more imbalnced , and there are more value counts for rating 0.\n",
    "- will convert the rating column with 1 if rated above 5 else 0."
   ]
  },
  {
   "cell_type": "code",
   "execution_count": 62,
   "metadata": {},
   "outputs": [],
   "source": [
    "#If rating is greater than 5 Rating_Changed=1, else 0\n",
    "books_ratings_df1= books_ratings_df.withColumn(\"Rating_Changed\",F.when(books_ratings_df.Rating >5 ,1).otherwise(0))"
   ]
  },
  {
   "cell_type": "code",
   "execution_count": 63,
   "metadata": {},
   "outputs": [
    {
     "name": "stdout",
     "output_type": "stream",
     "text": [
      "+-------+----------+--------------------+-------------+----+--------------------+--------------------+------+--------------+\n",
      "|User_ID|      ISBN|               Title|       Author|Year|           Publisher|            features|Rating|Rating_Changed|\n",
      "+-------+----------+--------------------+-------------+----+--------------------+--------------------+------+--------------+\n",
      "|  39608|0002234947|Miss Hobbema Pageant|W.P. Kinsella|1990|Harpercollins Juv...|[63518.0,39608.0,...|     0|             0|\n",
      "| 219445|0002234947|Miss Hobbema Pageant|W.P. Kinsella|1990|Harpercollins Juv...|[63518.0,219445.0...|     0|             0|\n",
      "| 227275|0002234947|Miss Hobbema Pageant|W.P. Kinsella|1990|Harpercollins Juv...|[63518.0,227275.0...|     0|             0|\n",
      "| 271542|0002243687|Brother Frank's g...|W. P Kinsella|1994|       HarperCollins|[237471.0,271542....|     0|             0|\n",
      "| 261105|0002257084|          Dolce Vita| Iseult Teran|1999|HarperCollins Pub...|[161284.0,261105....|     0|             0|\n",
      "+-------+----------+--------------------+-------------+----+--------------------+--------------------+------+--------------+\n",
      "only showing top 5 rows\n",
      "\n"
     ]
    }
   ],
   "source": [
    "books_ratings_df1.show(5)"
   ]
  },
  {
   "cell_type": "code",
   "execution_count": 66,
   "metadata": {},
   "outputs": [],
   "source": [
    "#dropping Rating column from the dataframe\n",
    "books_ratings_df1=books_ratings_df1.drop(\"Rating\")"
   ]
  },
  {
   "cell_type": "code",
   "execution_count": 65,
   "metadata": {},
   "outputs": [
    {
     "name": "stdout",
     "output_type": "stream",
     "text": [
      "+--------------+------+\n",
      "|Rating_changed| count|\n",
      "+--------------+------+\n",
      "|             1|321899|\n",
      "|             0|709264|\n",
      "+--------------+------+\n",
      "\n"
     ]
    }
   ],
   "source": [
    "#getting value counts of Ratings after changed them to binary,\n",
    "books_ratings_df1.groupby(\"Rating_changed\").count().show()"
   ]
  },
  {
   "cell_type": "markdown",
   "metadata": {},
   "source": [
    "- We can see that the data is still unbalaned, Will create a new column ClassWeights to give more weightage for the minority class."
   ]
  },
  {
   "cell_type": "markdown",
   "metadata": {},
   "source": [
    "# 1.2 ALS"
   ]
  },
  {
   "cell_type": "code",
   "execution_count": 69,
   "metadata": {},
   "outputs": [],
   "source": [
    "from pyspark.ml.recommendation import ALS"
   ]
  },
  {
   "cell_type": "code",
   "execution_count": 70,
   "metadata": {},
   "outputs": [],
   "source": [
    "#Converting ISBn=N from string to numeric, as ALS only accepts numeric columns\n",
    "indexer = StringIndexer().setInputCol(\"ISBN\").setOutputCol(\"ISBN_Index\").fit(books_ratings_df1)\n",
    "books_ratings_df_als = indexer.transform(books_ratings_df1)"
   ]
  },
  {
   "cell_type": "code",
   "execution_count": 72,
   "metadata": {},
   "outputs": [
    {
     "name": "stdout",
     "output_type": "stream",
     "text": [
      "Training Dataset Count:  722156\n",
      "Test Dataset Count:  309007\n"
     ]
    }
   ],
   "source": [
    "#randomly splitting the data\n",
    "als_train, als_test = books_ratings_df_als.randomSplit([0.7, 0.3], seed = 2020)\n",
    "print(\"Training Dataset Count: \" , (als_train.count()))\n",
    "print(\"Test Dataset Count: \" , als_test.count())"
   ]
  },
  {
   "cell_type": "code",
   "execution_count": 73,
   "metadata": {},
   "outputs": [],
   "source": [
    "#books_ratings_df_als = books_ratings_df_als.withColumnRenamed(\"Rating_changed\",\"label\")"
   ]
  },
  {
   "cell_type": "code",
   "execution_count": 76,
   "metadata": {},
   "outputs": [],
   "source": [
    "#Fitting the ALS model\n",
    "als=ALS(maxIter=5,regParam=0.01,userCol=\"User_ID\",itemCol=\"ISBN_Index\",ratingCol=\"Rating_Changed\",coldStartStrategy=\"drop\",nonnegative=True)\n",
    "als_model=als.fit(als_train)"
   ]
  },
  {
   "cell_type": "markdown",
   "metadata": {},
   "source": [
    "#### ALS evaluation"
   ]
  },
  {
   "cell_type": "code",
   "execution_count": 77,
   "metadata": {},
   "outputs": [
    {
     "name": "stdout",
     "output_type": "stream",
     "text": [
      "MSE: 0.24347313717705937\n"
     ]
    }
   ],
   "source": [
    "#importing RegressionEvaluator\n",
    "from pyspark.ml.evaluation import RegressionEvaluator\n",
    "#transforming test\n",
    "als_predictions= als_model.transform(als_test)\n",
    "#defining evaluator\n",
    "evaluator= RegressionEvaluator(metricName='mse',labelCol='Rating_Changed',predictionCol='prediction')\n",
    "#evaluating als predictions\n",
    "mse = evaluator.evaluate(als_predictions)\n",
    "#printing the MSE score\n",
    "print(\"MSE:\",mse)"
   ]
  },
  {
   "cell_type": "code",
   "execution_count": null,
   "metadata": {},
   "outputs": [],
   "source": [
    "#user_recom= als_model.recommendForAllUsers(10)\n",
    "#user_recom.show()"
   ]
  },
  {
   "cell_type": "markdown",
   "metadata": {},
   "source": [
    "# 1.3. Logistic Regression"
   ]
  },
  {
   "cell_type": "code",
   "execution_count": 78,
   "metadata": {},
   "outputs": [],
   "source": [
    "#importing LogisticRegression\n",
    "from pyspark.ml.classification import LogisticRegression"
   ]
  },
  {
   "cell_type": "code",
   "execution_count": 79,
   "metadata": {},
   "outputs": [
    {
     "name": "stdout",
     "output_type": "stream",
     "text": [
      "Training Dataset Count:  722156\n",
      "Test Dataset Count:  309007\n"
     ]
    }
   ],
   "source": [
    "#randomly splitting the data\n",
    "lr_train, lr_test = books_ratings_df1.randomSplit([0.7, 0.3], seed = 2020)\n",
    "print(\"Training Dataset Count: \" , (lr_train.count()))\n",
    "print(\"Test Dataset Count: \" , lr_test.count())"
   ]
  },
  {
   "cell_type": "code",
   "execution_count": 80,
   "metadata": {},
   "outputs": [],
   "source": [
    "#defining the lr model\n",
    "lr = LogisticRegression(featuresCol = 'features', labelCol = 'Rating_Changed', maxIter=10)\n",
    "#fitting lr model\n",
    "lr_model = lr.fit(lr_train)"
   ]
  },
  {
   "cell_type": "code",
   "execution_count": 81,
   "metadata": {},
   "outputs": [],
   "source": [
    "#train predictions\n",
    "train_predict = lr_model.transform(lr_train)\n",
    "#test predictions\n",
    "test_predict = lr_model.transform(lr_test)"
   ]
  },
  {
   "cell_type": "markdown",
   "metadata": {},
   "source": [
    "#### LR model Evaluation"
   ]
  },
  {
   "cell_type": "code",
   "execution_count": 83,
   "metadata": {},
   "outputs": [],
   "source": [
    "from pyspark.ml.evaluation import  BinaryClassificationEvaluator\n",
    "lr_evaluator = BinaryClassificationEvaluator(labelCol='Rating_Changed')"
   ]
  },
  {
   "cell_type": "code",
   "execution_count": 84,
   "metadata": {},
   "outputs": [
    {
     "name": "stdout",
     "output_type": "stream",
     "text": [
      "Train AUC: 0.532607790478523\n",
      "Test AUC: 0.5331504039257311\n"
     ]
    }
   ],
   "source": [
    "print(\"Train AUC:\",lr_evaluator.evaluate(train_predict))\n",
    "print(\"Test AUC:\",lr_evaluator.evaluate(test_predict))"
   ]
  },
  {
   "cell_type": "markdown",
   "metadata": {},
   "source": [
    "- As the data is more un balanced , lr model has got 53% AUC .\n",
    "- Let's add class weights and fit the LR model again."
   ]
  },
  {
   "cell_type": "code",
   "execution_count": 106,
   "metadata": {},
   "outputs": [
    {
     "data": {
      "image/png": "[encoded data removed]",
      "text/plain": [
       "<Figure size 432x288 with 1 Axes>"
      ]
     },
     "metadata": {
      "needs_background": "light"
     },
     "output_type": "display_data"
    }
   ],
   "source": [
    "trainingSummary = lr_model.summary\n",
    "roc = trainingSummary.roc.toPandas()\n",
    "\n",
    "plt.plot(roc['FPR'],roc['TPR'], label=\"train AUC =\"+str(trainingSummary.areaUnderROC))\n",
    "plt.ylabel('False Positive Rate')\n",
    "plt.xlabel('True Positive Rate')\n",
    "plt.title('ROC Curve of Train')\n",
    "plt.legend()\n",
    "plt.show()"
   ]
  },
  {
   "cell_type": "markdown",
   "metadata": {},
   "source": [
    "#### ClassWeights"
   ]
  },
  {
   "cell_type": "code",
   "execution_count": 88,
   "metadata": {},
   "outputs": [],
   "source": [
    "negatives = books_ratings_df1.where(books_ratings_df1.Rating_Changed == 0).count()\n",
    "positives = books_ratings_df1.where(books_ratings_df1.Rating_Changed == 1).count()"
   ]
  },
  {
   "cell_type": "code",
   "execution_count": 90,
   "metadata": {},
   "outputs": [],
   "source": [
    "negative_ratio= negatives / books_ratings_df1.count()\n",
    "positive_ratio= positives / books_ratings_df1.count()"
   ]
  },
  {
   "cell_type": "code",
   "execution_count": 91,
   "metadata": {},
   "outputs": [
    {
     "name": "stdout",
     "output_type": "stream",
     "text": [
      "Negative class Ratio : 0.6878291792859131\n",
      "Positive class Ratio : 0.3121708207140869\n"
     ]
    }
   ],
   "source": [
    "print(\"Negative class Ratio :\",negative_ratio)\n",
    "print(\"Positive class Ratio :\",positive_ratio)"
   ]
  },
  {
   "cell_type": "code",
   "execution_count": 98,
   "metadata": {},
   "outputs": [],
   "source": [
    "books_ratings_df2 = books_ratings_df1.withColumn(\"ClassWeights\",F.when(books_ratings_df1.Rating_Changed ==0,positive_ratio).when(books_ratings_df1.Rating_Changed ==1,(1-positive_ratio)))"
   ]
  },
  {
   "cell_type": "markdown",
   "metadata": {},
   "source": [
    "### LR with ClassWeights"
   ]
  },
  {
   "cell_type": "code",
   "execution_count": 100,
   "metadata": {},
   "outputs": [
    {
     "name": "stdout",
     "output_type": "stream",
     "text": [
      "Training Dataset Count:  722156\n",
      "Test Dataset Count:  309007\n"
     ]
    }
   ],
   "source": [
    "lr_train1, lr_test1 = books_ratings_df2.randomSplit([0.7, 0.3], seed = 2020)\n",
    "print(\"Training Dataset Count: \" , (lr_train1.count()))\n",
    "print(\"Test Dataset Count: \" , lr_test1.count())"
   ]
  },
  {
   "cell_type": "code",
   "execution_count": 101,
   "metadata": {},
   "outputs": [],
   "source": [
    "lr_1 = LogisticRegression(featuresCol = 'features', labelCol = 'Rating_Changed', maxIter=10,weightCol=\"ClassWeights\")\n",
    "lr_bal_model = lr_1.fit(lr_train1)"
   ]
  },
  {
   "cell_type": "code",
   "execution_count": 102,
   "metadata": {},
   "outputs": [],
   "source": [
    "bal_train_predict = lr_bal_model.transform(lr_train1)\n",
    "bal_test_predict = lr_bal_model.transform(lr_test1)"
   ]
  },
  {
   "cell_type": "code",
   "execution_count": 104,
   "metadata": {},
   "outputs": [],
   "source": [
    "lr_evaluator1 = BinaryClassificationEvaluator(labelCol='Rating_Changed')"
   ]
  },
  {
   "cell_type": "code",
   "execution_count": 105,
   "metadata": {},
   "outputs": [
    {
     "name": "stdout",
     "output_type": "stream",
     "text": [
      "Train Accuracy: 0.5326680160666527\n",
      "Test Accuracy: 0.5332191500891664\n"
     ]
    }
   ],
   "source": [
    "print(\"Train Accuracy:\",lr_evaluator1.evaluate(bal_train_predict))\n",
    "print(\"Test Accuracy:\",lr_evaluator1.evaluate(bal_test_predict))"
   ]
  },
  {
   "cell_type": "markdown",
   "metadata": {},
   "source": [
    "- AUC doesn't improve from 53 with default parameters.\n",
    "- We can try to increase AUC by doing cross validation with different ranges of parameters.\n",
    "- We can also try to increase the AUc by adding some more useful features to the model."
   ]
  },
  {
   "cell_type": "code",
   "execution_count": null,
   "metadata": {},
   "outputs": [],
   "source": [
    "#sc.stop()"
   ]
  },
  {
   "cell_type": "markdown",
   "metadata": {},
   "source": [
    "### END"
   ]
  }
 ],
 "metadata": {
  "kernelspec": {
   "display_name": "Python 3",
   "language": "python",
   "name": "python3"
  },
  "language_info": {
   "codemirror_mode": {
    "name": "ipython",
    "version": 3
   },
   "file_extension": ".py",
   "mimetype": "text/x-python",
   "name": "python",
   "nbconvert_exporter": "python",
   "pygments_lexer": "ipython3",
   "version": "3.7.6"
  }
 },
 "nbformat": 4,
 "nbformat_minor": 4
}
